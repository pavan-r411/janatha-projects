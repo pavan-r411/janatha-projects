{
 "cells": [
  {
   "cell_type": "code",
   "execution_count": 1,
   "metadata": {},
   "outputs": [],
   "source": [
    "import cv2\n",
    "import pandas as pd\n",
    "import numpy as np\n",
    "import os"
   ]
  },
  {
   "cell_type": "code",
   "execution_count": 2,
   "metadata": {},
   "outputs": [
    {
     "data": {
      "text/plain": [
       "image_names         0\n",
       "emergency_or_not    0\n",
       "dtype: int64"
      ]
     },
     "execution_count": 2,
     "metadata": {},
     "output_type": "execute_result"
    }
   ],
   "source": [
    "df = pd.read_csv('train.csv')\n",
    "df.isnull().sum()"
   ]
  },
  {
   "cell_type": "code",
   "execution_count": 3,
   "metadata": {},
   "outputs": [],
   "source": [
    "y = df.iloc[:,0].values\n",
    "y.shape\n",
    "images=[]\n",
    "labels = df.iloc[:,1].values"
   ]
  },
  {
   "cell_type": "code",
   "execution_count": 4,
   "metadata": {},
   "outputs": [],
   "source": [
    "path = 'images'\n",
    "# f = os.path.join(path,y[0])\n"
   ]
  },
  {
   "cell_type": "code",
   "execution_count": 5,
   "metadata": {},
   "outputs": [],
   "source": [
    "for i in y:\n",
    "    if os.path.exists(os.path.join(path,i)):\n",
    "        image = cv2.imread(os.path.join(path,i))\n",
    "        img = cv2.resize(image,(64,64))\n",
    "        img = img/256\n",
    "        images.append(img)\n",
    "        "
   ]
  },
  {
   "cell_type": "code",
   "execution_count": 6,
   "metadata": {},
   "outputs": [],
   "source": [
    "from sklearn.model_selection import train_test_split\n",
    "X_train, X_test, y_train, y_test = train_test_split(images, labels, test_size=0.2,random_state=42)"
   ]
  },
  {
   "cell_type": "code",
   "execution_count": 7,
   "metadata": {},
   "outputs": [],
   "source": [
    "X_train = np.array(X_train)\n",
    "X_test = np.array(X_test)\n",
    "y_train = np.array(y_train)\n",
    "y_test = np.array(y_test)"
   ]
  },
  {
   "cell_type": "code",
   "execution_count": 8,
   "metadata": {},
   "outputs": [
    {
     "data": {
      "text/plain": [
       "(64, 64, 3)"
      ]
     },
     "execution_count": 8,
     "metadata": {},
     "output_type": "execute_result"
    }
   ],
   "source": [
    "X_train[0].shape"
   ]
  },
  {
   "cell_type": "code",
   "execution_count": 9,
   "metadata": {},
   "outputs": [
    {
     "name": "stderr",
     "output_type": "stream",
     "text": [
      "Using TensorFlow backend.\n"
     ]
    }
   ],
   "source": [
    "from keras.models import Sequential\n",
    "from keras.layers import Conv2D\n",
    "from keras.layers import MaxPooling2D\n",
    "from keras.layers import Flatten\n",
    "from keras.layers import Dense\n",
    "import tensorflow as tf\n",
    "from keras.layers import Dense, Dropout, Activation, Flatten\n",
    "from keras.optimizers import SGD"
   ]
  },
  {
   "cell_type": "code",
   "execution_count": 10,
   "metadata": {},
   "outputs": [
    {
     "name": "stdout",
     "output_type": "stream",
     "text": [
      "WARNING:tensorflow:From C:\\Users\\PAVAN\\Anaconda3\\lib\\site-packages\\tensorflow\\python\\ops\\resource_variable_ops.py:435: colocate_with (from tensorflow.python.framework.ops) is deprecated and will be removed in a future version.\n",
      "Instructions for updating:\n",
      "Colocations handled automatically by placer.\n",
      "Model: \"sequential_1\"\n",
      "_________________________________________________________________\n",
      "Layer (type)                 Output Shape              Param #   \n",
      "=================================================================\n",
      "conv2d_1 (Conv2D)            (None, 62, 62, 32)        896       \n",
      "_________________________________________________________________\n",
      "max_pooling2d_1 (MaxPooling2 (None, 31, 31, 32)        0         \n",
      "_________________________________________________________________\n",
      "conv2d_2 (Conv2D)            (None, 29, 29, 32)        9248      \n",
      "_________________________________________________________________\n",
      "max_pooling2d_2 (MaxPooling2 (None, 14, 14, 32)        0         \n",
      "_________________________________________________________________\n",
      "conv2d_3 (Conv2D)            (None, 12, 12, 32)        9248      \n",
      "_________________________________________________________________\n",
      "max_pooling2d_3 (MaxPooling2 (None, 6, 6, 32)          0         \n",
      "_________________________________________________________________\n",
      "flatten_1 (Flatten)          (None, 1152)              0         \n",
      "_________________________________________________________________\n",
      "dense_1 (Dense)              (None, 128)               147584    \n",
      "_________________________________________________________________\n",
      "dense_2 (Dense)              (None, 1)                 129       \n",
      "=================================================================\n",
      "Total params: 167,105\n",
      "Trainable params: 167,105\n",
      "Non-trainable params: 0\n",
      "_________________________________________________________________\n"
     ]
    }
   ],
   "source": [
    "classifier = Sequential()\n",
    "\n",
    "# Step 1 - Convolution\n",
    "classifier.add(Conv2D(32, (3, 3), input_shape = (64, 64, 3), activation = 'relu'))\n",
    "\n",
    "# Step 2 - Pooling\n",
    "classifier.add(MaxPooling2D(pool_size = (2, 2)))\n",
    "\n",
    "# Adding a second convolutional layer\n",
    "classifier.add(Conv2D(32, (3, 3), activation = 'relu'))\n",
    "classifier.add(MaxPooling2D(pool_size = (2, 2)))\n",
    "\n",
    "classifier.add(Conv2D(32, (3, 3), activation = 'relu'))\n",
    "classifier.add(MaxPooling2D(pool_size = (2, 2)))\n",
    "\n",
    "# Step 3 - Flattening\n",
    "classifier.add(Flatten())\n",
    "\n",
    "# Step 4 - Full connection\n",
    "classifier.add(Dense(units = 128, activation = 'relu'))\n",
    "classifier.add(Dense(units = 1, activation = 'sigmoid'))\n",
    "\n",
    "# Compiling the CNN\n",
    "classifier.compile(optimizer = 'adam', loss = 'binary_crossentropy', metrics = ['accuracy'])\n",
    "\n",
    "classifier.summary()"
   ]
  },
  {
   "cell_type": "code",
   "execution_count": 11,
   "metadata": {},
   "outputs": [],
   "source": [
    "from keras.preprocessing.image import ImageDataGenerator\n",
    "\n",
    "datagen = ImageDataGenerator(\n",
    "                featurewise_center=False,  # set input mean to 0 over the dataset\n",
    "                samplewise_center=False,  # set each sample mean to 0\n",
    "                featurewise_std_normalization=False,  # divide inputs by std of the dataset\n",
    "                samplewise_std_normalization=False,  # divide each input by its std\n",
    "                zca_whitening=False,  # apply ZCA whitening\n",
    "                rotation_range=20,  # randomly rotate images in the range (degrees, 0 to 180)\n",
    "                width_shift_range=0.2,  # randomly shift images horizontally (fraction of total width)\n",
    "                height_shift_range=0.2,  # randomly shift images vertically (fraction of total height)\n",
    "                horizontal_flip=True,# randomly flip images\n",
    "                vertical_flip=False)  # randomly flip images\n",
    "\n",
    "datagen.fit(X_train)"
   ]
  },
  {
   "cell_type": "code",
   "execution_count": 12,
   "metadata": {},
   "outputs": [
    {
     "data": {
      "text/plain": [
       "1316"
      ]
     },
     "execution_count": 12,
     "metadata": {},
     "output_type": "execute_result"
    }
   ],
   "source": [
    "len(X_train)"
   ]
  },
  {
   "cell_type": "code",
   "execution_count": 13,
   "metadata": {},
   "outputs": [
    {
     "name": "stdout",
     "output_type": "stream",
     "text": [
      "WARNING:tensorflow:From C:\\Users\\PAVAN\\Anaconda3\\lib\\site-packages\\tensorflow\\python\\ops\\math_ops.py:3066: to_int32 (from tensorflow.python.ops.math_ops) is deprecated and will be removed in a future version.\n",
      "Instructions for updating:\n",
      "Use tf.cast instead.\n"
     ]
    },
    {
     "name": "stderr",
     "output_type": "stream",
     "text": [
      "C:\\Users\\PAVAN\\Anaconda3\\lib\\site-packages\\ipykernel_launcher.py:5: UserWarning: The semantics of the Keras 2 argument `steps_per_epoch` is not the same as the Keras 1 argument `samples_per_epoch`. `steps_per_epoch` is the number of batches to draw from the generator at each epoch. Basically steps_per_epoch = samples_per_epoch/batch_size. Similarly `nb_val_samples`->`validation_steps` and `val_samples`->`steps` arguments have changed. Update your method calls accordingly.\n",
      "  \"\"\"\n",
      "C:\\Users\\PAVAN\\Anaconda3\\lib\\site-packages\\ipykernel_launcher.py:5: UserWarning: Update your `fit_generator` call to the Keras 2 API: `fit_generator(<keras.pre..., validation_data=(array([[[..., steps_per_epoch=62, epochs=100)`\n",
      "  \"\"\"\n"
     ]
    },
    {
     "name": "stdout",
     "output_type": "stream",
     "text": [
      "Epoch 1/100\n",
      "62/62 [==============================] - 9s 139ms/step - loss: 0.6496 - accuracy: 0.6276 - val_loss: 0.6088 - val_accuracy: 0.6515\n",
      "Epoch 2/100\n",
      "62/62 [==============================] - 8s 124ms/step - loss: 0.6020 - accuracy: 0.6800 - val_loss: 0.5675 - val_accuracy: 0.7273\n",
      "Epoch 3/100\n",
      "62/62 [==============================] - 8s 128ms/step - loss: 0.5556 - accuracy: 0.7117 - val_loss: 0.5803 - val_accuracy: 0.6667\n",
      "Epoch 4/100\n",
      "62/62 [==============================] - 8s 127ms/step - loss: 0.5624 - accuracy: 0.7059 - val_loss: 0.5342 - val_accuracy: 0.7424\n",
      "Epoch 5/100\n",
      "62/62 [==============================] - 8s 132ms/step - loss: 0.5320 - accuracy: 0.7439 - val_loss: 0.5371 - val_accuracy: 0.7364\n",
      "Epoch 6/100\n",
      "62/62 [==============================] - 8s 130ms/step - loss: 0.5256 - accuracy: 0.7562 - val_loss: 0.4933 - val_accuracy: 0.7576\n",
      "Epoch 7/100\n",
      "62/62 [==============================] - 8s 130ms/step - loss: 0.5185 - accuracy: 0.7386 - val_loss: 0.4771 - val_accuracy: 0.7909\n",
      "Epoch 8/100\n",
      "62/62 [==============================] - 8s 131ms/step - loss: 0.5108 - accuracy: 0.7459 - val_loss: 0.4818 - val_accuracy: 0.7515\n",
      "Epoch 9/100\n",
      "62/62 [==============================] - 8s 131ms/step - loss: 0.4889 - accuracy: 0.7520 - val_loss: 0.4712 - val_accuracy: 0.7576\n",
      "Epoch 10/100\n",
      "62/62 [==============================] - 8s 131ms/step - loss: 0.4703 - accuracy: 0.7780 - val_loss: 0.5290 - val_accuracy: 0.7212\n",
      "Epoch 11/100\n",
      "62/62 [==============================] - 8s 133ms/step - loss: 0.4413 - accuracy: 0.7914 - val_loss: 0.5359 - val_accuracy: 0.7030\n",
      "Epoch 12/100\n",
      "62/62 [==============================] - 8s 133ms/step - loss: 0.4234 - accuracy: 0.7986 - val_loss: 0.3909 - val_accuracy: 0.8000\n",
      "Epoch 13/100\n",
      "62/62 [==============================] - 8s 131ms/step - loss: 0.4173 - accuracy: 0.8179 - val_loss: 0.4007 - val_accuracy: 0.7970\n",
      "Epoch 14/100\n",
      "62/62 [==============================] - 8s 133ms/step - loss: 0.4131 - accuracy: 0.8057 - val_loss: 0.4207 - val_accuracy: 0.8091\n",
      "Epoch 15/100\n",
      "62/62 [==============================] - 8s 131ms/step - loss: 0.4090 - accuracy: 0.8096 - val_loss: 0.4124 - val_accuracy: 0.7939\n",
      "Epoch 16/100\n",
      "62/62 [==============================] - 8s 131ms/step - loss: 0.3930 - accuracy: 0.8128 - val_loss: 0.3998 - val_accuracy: 0.8242\n",
      "Epoch 17/100\n",
      "62/62 [==============================] - 8s 133ms/step - loss: 0.3989 - accuracy: 0.8154 - val_loss: 0.3693 - val_accuracy: 0.8273\n",
      "Epoch 18/100\n",
      "62/62 [==============================] - 8s 133ms/step - loss: 0.3764 - accuracy: 0.8308 - val_loss: 0.3509 - val_accuracy: 0.8424\n",
      "Epoch 19/100\n",
      "62/62 [==============================] - 8s 132ms/step - loss: 0.3770 - accuracy: 0.8299 - val_loss: 0.3860 - val_accuracy: 0.8273\n",
      "Epoch 20/100\n",
      "62/62 [==============================] - 8s 131ms/step - loss: 0.3706 - accuracy: 0.8294 - val_loss: 0.3722 - val_accuracy: 0.8394\n",
      "Epoch 21/100\n",
      "62/62 [==============================] - 8s 135ms/step - loss: 0.3440 - accuracy: 0.8466 - val_loss: 0.3387 - val_accuracy: 0.8333\n",
      "Epoch 22/100\n",
      "62/62 [==============================] - 8s 135ms/step - loss: 0.3412 - accuracy: 0.8511 - val_loss: 0.3443 - val_accuracy: 0.8394\n",
      "Epoch 23/100\n",
      "62/62 [==============================] - 8s 133ms/step - loss: 0.3246 - accuracy: 0.8569 - val_loss: 0.5852 - val_accuracy: 0.7455\n",
      "Epoch 24/100\n",
      "62/62 [==============================] - 8s 136ms/step - loss: 0.3380 - accuracy: 0.8471 - val_loss: 0.3743 - val_accuracy: 0.8455\n",
      "Epoch 25/100\n",
      "62/62 [==============================] - 8s 134ms/step - loss: 0.3295 - accuracy: 0.8589 - val_loss: 0.3365 - val_accuracy: 0.8545\n",
      "Epoch 26/100\n",
      "62/62 [==============================] - 9s 137ms/step - loss: 0.3254 - accuracy: 0.8589 - val_loss: 0.3504 - val_accuracy: 0.8333\n",
      "Epoch 27/100\n",
      "62/62 [==============================] - 8s 132ms/step - loss: 0.3153 - accuracy: 0.8698 - val_loss: 0.3298 - val_accuracy: 0.8424\n",
      "Epoch 28/100\n",
      "62/62 [==============================] - 8s 135ms/step - loss: 0.3056 - accuracy: 0.8712 - val_loss: 0.3408 - val_accuracy: 0.8455\n",
      "Epoch 29/100\n",
      "62/62 [==============================] - 8s 136ms/step - loss: 0.3156 - accuracy: 0.8714 - val_loss: 0.3186 - val_accuracy: 0.8485\n",
      "Epoch 30/100\n",
      "62/62 [==============================] - 8s 134ms/step - loss: 0.2936 - accuracy: 0.8776 - val_loss: 0.3763 - val_accuracy: 0.8485\n",
      "Epoch 31/100\n",
      "62/62 [==============================] - 9s 138ms/step - loss: 0.3004 - accuracy: 0.8579 - val_loss: 0.3639 - val_accuracy: 0.8636\n",
      "Epoch 32/100\n",
      "62/62 [==============================] - 8s 135ms/step - loss: 0.2786 - accuracy: 0.8880 - val_loss: 0.3403 - val_accuracy: 0.8455\n",
      "Epoch 33/100\n",
      "62/62 [==============================] - 8s 135ms/step - loss: 0.2881 - accuracy: 0.8758 - val_loss: 0.3787 - val_accuracy: 0.8303\n",
      "Epoch 34/100\n",
      "62/62 [==============================] - 8s 133ms/step - loss: 0.3147 - accuracy: 0.8641 - val_loss: 0.4228 - val_accuracy: 0.8061\n",
      "Epoch 35/100\n",
      "62/62 [==============================] - 8s 134ms/step - loss: 0.2929 - accuracy: 0.8641 - val_loss: 0.3129 - val_accuracy: 0.8455\n",
      "Epoch 36/100\n",
      "62/62 [==============================] - 8s 135ms/step - loss: 0.2835 - accuracy: 0.8839 - val_loss: 0.3199 - val_accuracy: 0.8636\n",
      "Epoch 37/100\n",
      "62/62 [==============================] - 8s 135ms/step - loss: 0.2548 - accuracy: 0.8932 - val_loss: 0.3438 - val_accuracy: 0.8364\n",
      "Epoch 38/100\n",
      "62/62 [==============================] - 8s 135ms/step - loss: 0.2638 - accuracy: 0.8839 - val_loss: 0.3216 - val_accuracy: 0.8545\n",
      "Epoch 39/100\n",
      "62/62 [==============================] - 8s 134ms/step - loss: 0.2557 - accuracy: 0.8895 - val_loss: 0.3437 - val_accuracy: 0.8576\n",
      "Epoch 40/100\n",
      "62/62 [==============================] - 8s 135ms/step - loss: 0.2648 - accuracy: 0.8834 - val_loss: 0.3539 - val_accuracy: 0.8576\n",
      "Epoch 41/100\n",
      "62/62 [==============================] - 8s 135ms/step - loss: 0.2420 - accuracy: 0.8973 - val_loss: 0.3967 - val_accuracy: 0.8242\n",
      "Epoch 42/100\n",
      "62/62 [==============================] - 8s 136ms/step - loss: 0.2410 - accuracy: 0.8998 - val_loss: 0.3719 - val_accuracy: 0.8364\n",
      "Epoch 43/100\n",
      "62/62 [==============================] - 8s 133ms/step - loss: 0.2344 - accuracy: 0.9051 - val_loss: 0.4779 - val_accuracy: 0.8273\n",
      "Epoch 44/100\n",
      "62/62 [==============================] - 8s 134ms/step - loss: 0.2314 - accuracy: 0.9039 - val_loss: 0.3584 - val_accuracy: 0.8394\n",
      "Epoch 45/100\n",
      "62/62 [==============================] - 8s 136ms/step - loss: 0.2121 - accuracy: 0.9100 - val_loss: 0.3722 - val_accuracy: 0.8485\n",
      "Epoch 46/100\n",
      "62/62 [==============================] - 8s 132ms/step - loss: 0.2464 - accuracy: 0.8999 - val_loss: 0.3554 - val_accuracy: 0.8606\n",
      "Epoch 47/100\n",
      "62/62 [==============================] - 8s 134ms/step - loss: 0.2253 - accuracy: 0.9118 - val_loss: 0.3619 - val_accuracy: 0.8424\n",
      "Epoch 48/100\n",
      "62/62 [==============================] - 8s 135ms/step - loss: 0.2589 - accuracy: 0.8978 - val_loss: 0.3678 - val_accuracy: 0.8545\n",
      "Epoch 49/100\n",
      "62/62 [==============================] - 8s 134ms/step - loss: 0.2638 - accuracy: 0.9030 - val_loss: 0.3600 - val_accuracy: 0.8697\n",
      "Epoch 50/100\n",
      "62/62 [==============================] - 8s 135ms/step - loss: 0.2171 - accuracy: 0.9075 - val_loss: 0.5227 - val_accuracy: 0.8333\n",
      "Epoch 51/100\n",
      "62/62 [==============================] - 8s 135ms/step - loss: 0.2193 - accuracy: 0.9100 - val_loss: 0.3329 - val_accuracy: 0.8545\n",
      "Epoch 52/100\n",
      "62/62 [==============================] - 8s 133ms/step - loss: 0.2062 - accuracy: 0.9175 - val_loss: 0.3306 - val_accuracy: 0.8576\n",
      "Epoch 53/100\n",
      "62/62 [==============================] - 10s 161ms/step - loss: 0.2050 - accuracy: 0.9151 - val_loss: 0.4779 - val_accuracy: 0.8424\n",
      "Epoch 54/100\n",
      "62/62 [==============================] - 9s 147ms/step - loss: 0.1952 - accuracy: 0.9212 - val_loss: 0.3403 - val_accuracy: 0.8667\n",
      "Epoch 55/100\n",
      "62/62 [==============================] - 9s 143ms/step - loss: 0.1968 - accuracy: 0.9197 - val_loss: 0.3881 - val_accuracy: 0.8515\n",
      "Epoch 56/100\n",
      "62/62 [==============================] - 9s 141ms/step - loss: 0.2507 - accuracy: 0.8993 - val_loss: 0.3385 - val_accuracy: 0.8697\n",
      "Epoch 57/100\n",
      "62/62 [==============================] - 8s 136ms/step - loss: 0.2002 - accuracy: 0.9186 - val_loss: 0.3466 - val_accuracy: 0.8576\n"
     ]
    },
    {
     "name": "stdout",
     "output_type": "stream",
     "text": [
      "Epoch 58/100\n",
      "62/62 [==============================] - 9s 138ms/step - loss: 0.2269 - accuracy: 0.9103 - val_loss: 0.3158 - val_accuracy: 0.8515\n",
      "Epoch 59/100\n",
      "62/62 [==============================] - 8s 134ms/step - loss: 0.2022 - accuracy: 0.9227 - val_loss: 0.3587 - val_accuracy: 0.8727\n",
      "Epoch 60/100\n",
      "62/62 [==============================] - 8s 136ms/step - loss: 0.2078 - accuracy: 0.9136 - val_loss: 0.3785 - val_accuracy: 0.8303\n",
      "Epoch 61/100\n",
      "62/62 [==============================] - 8s 136ms/step - loss: 0.1820 - accuracy: 0.9248 - val_loss: 0.3448 - val_accuracy: 0.8636\n",
      "Epoch 62/100\n",
      "62/62 [==============================] - 8s 135ms/step - loss: 0.1910 - accuracy: 0.9170 - val_loss: 0.3629 - val_accuracy: 0.8606\n",
      "Epoch 63/100\n",
      "62/62 [==============================] - 8s 135ms/step - loss: 0.1778 - accuracy: 0.9376 - val_loss: 0.3090 - val_accuracy: 0.8697\n",
      "Epoch 64/100\n",
      "62/62 [==============================] - 8s 135ms/step - loss: 0.1773 - accuracy: 0.9253 - val_loss: 0.3679 - val_accuracy: 0.8545\n",
      "Epoch 65/100\n",
      "62/62 [==============================] - 8s 135ms/step - loss: 0.1786 - accuracy: 0.9310 - val_loss: 0.3615 - val_accuracy: 0.8606\n",
      "Epoch 66/100\n",
      "62/62 [==============================] - 8s 136ms/step - loss: 0.1791 - accuracy: 0.9284 - val_loss: 0.3461 - val_accuracy: 0.8606\n",
      "Epoch 67/100\n",
      "62/62 [==============================] - 8s 134ms/step - loss: 0.1749 - accuracy: 0.9310 - val_loss: 0.3576 - val_accuracy: 0.8545\n",
      "Epoch 68/100\n",
      "62/62 [==============================] - 8s 137ms/step - loss: 0.1772 - accuracy: 0.9300 - val_loss: 0.4310 - val_accuracy: 0.8606\n",
      "Epoch 69/100\n",
      "62/62 [==============================] - 9s 142ms/step - loss: 0.1962 - accuracy: 0.9222 - val_loss: 0.3047 - val_accuracy: 0.8606\n",
      "Epoch 70/100\n",
      "62/62 [==============================] - 9s 138ms/step - loss: 0.2122 - accuracy: 0.9218 - val_loss: 0.3390 - val_accuracy: 0.8788\n",
      "Epoch 71/100\n",
      "62/62 [==============================] - 8s 137ms/step - loss: 0.1696 - accuracy: 0.9294 - val_loss: 0.3173 - val_accuracy: 0.8636\n",
      "Epoch 72/100\n",
      "62/62 [==============================] - 9s 138ms/step - loss: 0.1738 - accuracy: 0.9279 - val_loss: 0.3317 - val_accuracy: 0.8515\n",
      "Epoch 73/100\n",
      "62/62 [==============================] - 8s 134ms/step - loss: 0.1858 - accuracy: 0.9243 - val_loss: 0.3386 - val_accuracy: 0.8576\n",
      "Epoch 74/100\n",
      "62/62 [==============================] - 8s 136ms/step - loss: 0.1905 - accuracy: 0.9300 - val_loss: 0.3969 - val_accuracy: 0.8485\n",
      "Epoch 75/100\n",
      "62/62 [==============================] - 8s 136ms/step - loss: 0.1774 - accuracy: 0.9264 - val_loss: 0.3762 - val_accuracy: 0.8606\n",
      "Epoch 76/100\n",
      "62/62 [==============================] - 8s 133ms/step - loss: 0.1445 - accuracy: 0.9435 - val_loss: 0.3775 - val_accuracy: 0.8636\n",
      "Epoch 77/100\n",
      "62/62 [==============================] - 8s 134ms/step - loss: 0.1471 - accuracy: 0.9404 - val_loss: 0.4408 - val_accuracy: 0.8545\n",
      "Epoch 78/100\n",
      "62/62 [==============================] - 8s 136ms/step - loss: 0.1696 - accuracy: 0.9294 - val_loss: 0.3526 - val_accuracy: 0.8697\n",
      "Epoch 79/100\n",
      "62/62 [==============================] - 8s 134ms/step - loss: 0.1525 - accuracy: 0.9378 - val_loss: 0.3945 - val_accuracy: 0.8545\n",
      "Epoch 80/100\n",
      "62/62 [==============================] - 8s 136ms/step - loss: 0.1285 - accuracy: 0.9540 - val_loss: 0.5227 - val_accuracy: 0.8636\n",
      "Epoch 81/100\n",
      "62/62 [==============================] - 8s 134ms/step - loss: 0.1488 - accuracy: 0.9450 - val_loss: 0.3631 - val_accuracy: 0.8636\n",
      "Epoch 82/100\n",
      "62/62 [==============================] - 8s 135ms/step - loss: 0.1858 - accuracy: 0.9248 - val_loss: 0.3747 - val_accuracy: 0.8576\n",
      "Epoch 83/100\n",
      "62/62 [==============================] - 8s 135ms/step - loss: 0.1516 - accuracy: 0.9372 - val_loss: 0.3953 - val_accuracy: 0.8727\n",
      "Epoch 84/100\n",
      "62/62 [==============================] - 8s 136ms/step - loss: 0.1372 - accuracy: 0.9438 - val_loss: 0.3622 - val_accuracy: 0.8606\n",
      "Epoch 85/100\n",
      "62/62 [==============================] - 8s 135ms/step - loss: 0.1432 - accuracy: 0.9455 - val_loss: 0.4556 - val_accuracy: 0.8515\n",
      "Epoch 86/100\n",
      "62/62 [==============================] - 8s 135ms/step - loss: 0.1570 - accuracy: 0.9387 - val_loss: 0.3679 - val_accuracy: 0.8606\n",
      "Epoch 87/100\n",
      "62/62 [==============================] - 8s 135ms/step - loss: 0.1480 - accuracy: 0.9398 - val_loss: 0.3371 - val_accuracy: 0.8697\n",
      "Epoch 88/100\n",
      "62/62 [==============================] - 8s 135ms/step - loss: 0.1323 - accuracy: 0.9484 - val_loss: 0.4020 - val_accuracy: 0.8697\n",
      "Epoch 89/100\n",
      "62/62 [==============================] - 8s 137ms/step - loss: 0.1250 - accuracy: 0.9489 - val_loss: 0.4148 - val_accuracy: 0.8576\n",
      "Epoch 90/100\n",
      "62/62 [==============================] - 8s 133ms/step - loss: 0.1480 - accuracy: 0.9393 - val_loss: 0.3814 - val_accuracy: 0.8818\n",
      "Epoch 91/100\n",
      "62/62 [==============================] - 8s 134ms/step - loss: 0.1291 - accuracy: 0.9497 - val_loss: 0.3552 - val_accuracy: 0.8545\n",
      "Epoch 92/100\n",
      "62/62 [==============================] - 8s 136ms/step - loss: 0.1339 - accuracy: 0.9427 - val_loss: 0.3701 - val_accuracy: 0.8788\n",
      "Epoch 93/100\n",
      "62/62 [==============================] - 8s 134ms/step - loss: 0.1376 - accuracy: 0.9429 - val_loss: 0.3824 - val_accuracy: 0.8667\n",
      "Epoch 94/100\n",
      "62/62 [==============================] - 9s 147ms/step - loss: 0.1325 - accuracy: 0.9392 - val_loss: 0.4170 - val_accuracy: 0.8606\n",
      "Epoch 95/100\n",
      "62/62 [==============================] - 9s 146ms/step - loss: 0.1369 - accuracy: 0.9445 - val_loss: 0.3844 - val_accuracy: 0.8424\n",
      "Epoch 96/100\n",
      "62/62 [==============================] - 9s 148ms/step - loss: 0.1287 - accuracy: 0.9425 - val_loss: 0.3802 - val_accuracy: 0.8636\n",
      "Epoch 97/100\n",
      "62/62 [==============================] - 9s 142ms/step - loss: 0.1080 - accuracy: 0.9606 - val_loss: 0.4728 - val_accuracy: 0.8697\n",
      "Epoch 98/100\n",
      "62/62 [==============================] - 9s 140ms/step - loss: 0.1735 - accuracy: 0.9263 - val_loss: 0.3474 - val_accuracy: 0.8879\n",
      "Epoch 99/100\n",
      "62/62 [==============================] - 9s 139ms/step - loss: 0.1405 - accuracy: 0.9453 - val_loss: 0.3663 - val_accuracy: 0.8758\n",
      "Epoch 100/100\n",
      "62/62 [==============================] - 9s 139ms/step - loss: 0.1192 - accuracy: 0.9616 - val_loss: 0.4883 - val_accuracy: 0.8667\n"
     ]
    },
    {
     "data": {
      "text/plain": [
       "<keras.callbacks.callbacks.History at 0x24ef8b38b48>"
      ]
     },
     "execution_count": 13,
     "metadata": {},
     "output_type": "execute_result"
    }
   ],
   "source": [
    "classifier.fit_generator(datagen.flow(X_train, y_train,\n",
    "                    batch_size=32),\n",
    "                    samples_per_epoch=2000,\n",
    "                    nb_epoch=100,\n",
    "                    validation_data=(X_test, y_test))"
   ]
  },
  {
   "cell_type": "code",
   "execution_count": 14,
   "metadata": {},
   "outputs": [
    {
     "data": {
      "text/plain": [
       "image_names    0\n",
       "dtype: int64"
      ]
     },
     "execution_count": 14,
     "metadata": {},
     "output_type": "execute_result"
    }
   ],
   "source": [
    "dataframe = pd.read_csv('test.csv')\n",
    "dataframe.isnull().sum()"
   ]
  },
  {
   "cell_type": "code",
   "execution_count": 15,
   "metadata": {},
   "outputs": [
    {
     "data": {
      "text/plain": [
       "Index(['image_names'], dtype='object')"
      ]
     },
     "execution_count": 15,
     "metadata": {},
     "output_type": "execute_result"
    }
   ],
   "source": [
    "dataframe.columns"
   ]
  },
  {
   "cell_type": "code",
   "execution_count": 16,
   "metadata": {},
   "outputs": [
    {
     "data": {
      "text/plain": [
       "(706,)"
      ]
     },
     "execution_count": 16,
     "metadata": {},
     "output_type": "execute_result"
    }
   ],
   "source": [
    "test_set = dataframe.iloc[:,0].values\n",
    "images_test=[]\n",
    "test_set.shape"
   ]
  },
  {
   "cell_type": "code",
   "execution_count": 17,
   "metadata": {},
   "outputs": [
    {
     "data": {
      "text/plain": [
       "706"
      ]
     },
     "execution_count": 17,
     "metadata": {},
     "output_type": "execute_result"
    }
   ],
   "source": [
    "test_set.size"
   ]
  },
  {
   "cell_type": "code",
   "execution_count": 18,
   "metadata": {},
   "outputs": [],
   "source": [
    "for i in test_set:\n",
    "    if os.path.exists(os.path.join(path,i)):\n",
    "        image = cv2.imread(os.path.join(path,i))\n",
    "        img = cv2.resize(image,(64,64))\n",
    "        img = img/256\n",
    "        images_test.append(img)\n",
    "#     print(os.path.join(path,i))\n",
    "# temp = os.path.join(path, test_set[0][0])\n"
   ]
  },
  {
   "cell_type": "code",
   "execution_count": 19,
   "metadata": {},
   "outputs": [],
   "source": [
    "X_final = np.array(images_test)"
   ]
  },
  {
   "cell_type": "code",
   "execution_count": 20,
   "metadata": {},
   "outputs": [],
   "source": [
    "ans = classifier.predict_classes(X_final)\n",
    "ans = np.resize(ans, (706,))"
   ]
  },
  {
   "cell_type": "code",
   "execution_count": 21,
   "metadata": {},
   "outputs": [
    {
     "data": {
      "text/plain": [
       "(706,)"
      ]
     },
     "execution_count": 21,
     "metadata": {},
     "output_type": "execute_result"
    }
   ],
   "source": [
    "# dataframe['image_names'].shape\n",
    "ans.shape"
   ]
  },
  {
   "cell_type": "code",
   "execution_count": 22,
   "metadata": {},
   "outputs": [],
   "source": [
    "submit = pd.DataFrame({\n",
    "    \n",
    "    'image_names' : dataframe['image_names'],\n",
    "    'emergency_or_not' : ans\n",
    "})"
   ]
  },
  {
   "cell_type": "code",
   "execution_count": 23,
   "metadata": {},
   "outputs": [
    {
     "data": {
      "text/plain": [
       "(706,)"
      ]
     },
     "execution_count": 23,
     "metadata": {},
     "output_type": "execute_result"
    }
   ],
   "source": [
    "dataframe['image_names'].shape"
   ]
  },
  {
   "cell_type": "code",
   "execution_count": 26,
   "metadata": {},
   "outputs": [],
   "source": [
    "submit.to_csv('submission100_adam.csv', index = False)"
   ]
  },
  {
   "cell_type": "code",
   "execution_count": 27,
   "metadata": {},
   "outputs": [
    {
     "data": {
      "text/html": [
       "<div>\n",
       "<style scoped>\n",
       "    .dataframe tbody tr th:only-of-type {\n",
       "        vertical-align: middle;\n",
       "    }\n",
       "\n",
       "    .dataframe tbody tr th {\n",
       "        vertical-align: top;\n",
       "    }\n",
       "\n",
       "    .dataframe thead th {\n",
       "        text-align: right;\n",
       "    }\n",
       "</style>\n",
       "<table border=\"1\" class=\"dataframe\">\n",
       "  <thead>\n",
       "    <tr style=\"text-align: right;\">\n",
       "      <th></th>\n",
       "      <th>emergency_or_not</th>\n",
       "    </tr>\n",
       "  </thead>\n",
       "  <tbody>\n",
       "    <tr>\n",
       "      <th>count</th>\n",
       "      <td>706.000000</td>\n",
       "    </tr>\n",
       "    <tr>\n",
       "      <th>mean</th>\n",
       "      <td>0.364023</td>\n",
       "    </tr>\n",
       "    <tr>\n",
       "      <th>std</th>\n",
       "      <td>0.481496</td>\n",
       "    </tr>\n",
       "    <tr>\n",
       "      <th>min</th>\n",
       "      <td>0.000000</td>\n",
       "    </tr>\n",
       "    <tr>\n",
       "      <th>25%</th>\n",
       "      <td>0.000000</td>\n",
       "    </tr>\n",
       "    <tr>\n",
       "      <th>50%</th>\n",
       "      <td>0.000000</td>\n",
       "    </tr>\n",
       "    <tr>\n",
       "      <th>75%</th>\n",
       "      <td>1.000000</td>\n",
       "    </tr>\n",
       "    <tr>\n",
       "      <th>max</th>\n",
       "      <td>1.000000</td>\n",
       "    </tr>\n",
       "  </tbody>\n",
       "</table>\n",
       "</div>"
      ],
      "text/plain": [
       "       emergency_or_not\n",
       "count        706.000000\n",
       "mean           0.364023\n",
       "std            0.481496\n",
       "min            0.000000\n",
       "25%            0.000000\n",
       "50%            0.000000\n",
       "75%            1.000000\n",
       "max            1.000000"
      ]
     },
     "execution_count": 27,
     "metadata": {},
     "output_type": "execute_result"
    }
   ],
   "source": [
    "submit.describe()"
   ]
  },
  {
   "cell_type": "code",
   "execution_count": null,
   "metadata": {},
   "outputs": [],
   "source": []
  }
 ],
 "metadata": {
  "kernelspec": {
   "display_name": "Python 3",
   "language": "python",
   "name": "python3"
  },
  "language_info": {
   "codemirror_mode": {
    "name": "ipython",
    "version": 3
   },
   "file_extension": ".py",
   "mimetype": "text/x-python",
   "name": "python",
   "nbconvert_exporter": "python",
   "pygments_lexer": "ipython3",
   "version": "3.7.4"
  }
 },
 "nbformat": 4,
 "nbformat_minor": 2
}
